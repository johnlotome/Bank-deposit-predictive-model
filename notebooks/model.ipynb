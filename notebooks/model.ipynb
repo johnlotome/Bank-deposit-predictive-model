{
 "cells": [
  {
   "cell_type": "code",
   "execution_count": 42,
   "metadata": {},
   "outputs": [],
   "source": [
    "import pandas as pd\n",
    "import numpy as np\n",
    "from sklearn.model_selection import KFold\n",
    "from sklearn.model_selection import StratifiedKFold\n",
    "from sklearn.model_selection import cross_val_score\n",
    "from sklearn.model_selection import GridSearchCV\n",
    "from sklearn.metrics import roc_auc_score\n",
    "from sklearn.metrics import roc_curve\n",
    "from sklearn.metrics import accuracy_score, confusion_matrix, precision_score, recall_score, classification_report\n",
    "from sklearn.dummy import DummyClassifier\n",
    "from sklearn import svm\n",
    "from sklearn.linear_model import LogisticRegression\n",
    "from xgboost import XGBClassifier\n",
    "from sklearn.neural_network import MLPClassifier\n",
    "from sklearn.metrics import roc_curve\n",
    "from sklearn.metrics import auc\n",
    "from sklearn.ensemble import IsolationForest\n",
    "import warnings\n",
    "warnings.filterwarnings(\"ignore\")\n",
    "import matplotlib.pyplot as plt\n",
    "\n",
    "%matplotlib inline "
   ]
  },
  {
   "cell_type": "code",
   "execution_count": 28,
   "metadata": {},
   "outputs": [],
   "source": [
    "path = '../data/processed/results.csv'\n",
    "path1 = '../data/processed/features.csv'"
   ]
  },
  {
   "cell_type": "code",
   "execution_count": 29,
   "metadata": {},
   "outputs": [],
   "source": [
    "X = pd.read_csv(path1)\n",
    "y = pd.read_csv(path)"
   ]
  },
  {
   "cell_type": "code",
   "execution_count": 30,
   "metadata": {},
   "outputs": [
    {
     "name": "stdout",
     "output_type": "stream",
     "text": [
      "(69790, 1)\n",
      "(69790, 10)\n"
     ]
    }
   ],
   "source": [
    "print(y.shape)\n",
    "print(X.shape)"
   ]
  },
  {
   "cell_type": "markdown",
   "metadata": {},
   "source": [
    "##### KFold cross validation"
   ]
  },
  {
   "cell_type": "code",
   "execution_count": 5,
   "metadata": {},
   "outputs": [],
   "source": [
    "kf = KFold(n_splits = 10, shuffle = True, random_state = 4)\n",
    "skf = StratifiedKFold(n_splits = 10, shuffle = True, random_state = 4)"
   ]
  },
  {
   "cell_type": "code",
   "execution_count": 6,
   "metadata": {},
   "outputs": [],
   "source": [
    "for train_index,test_index in kf.split(X,y):\n",
    "    X_train,X_test = X.loc[train_index],X.loc[test_index]\n",
    "    y_train,y_test = y.loc[train_index],y.loc[test_index]"
   ]
  },
  {
   "cell_type": "markdown",
   "metadata": {},
   "source": [
    "###### Baseline Model "
   ]
  },
  {
   "cell_type": "code",
   "execution_count": 7,
   "metadata": {},
   "outputs": [
    {
     "data": {
      "text/plain": [
       "DummyClassifier(random_state=0, strategy='most_frequent')"
      ]
     },
     "execution_count": 7,
     "metadata": {},
     "output_type": "execute_result"
    }
   ],
   "source": [
    "dummy_model = DummyClassifier(strategy = 'most_frequent', random_state=0)\n",
    "dummy_model.fit(X_train, y_train)"
   ]
  },
  {
   "cell_type": "code",
   "execution_count": 8,
   "metadata": {},
   "outputs": [
    {
     "name": "stdout",
     "output_type": "stream",
     "text": [
      "score for baseline model : 0.49\n",
      "accuracy for baseline model : 0.49\n"
     ]
    }
   ],
   "source": [
    "print('score for baseline model : {0:.2f}'.format(dummy_model.score(X_test, y_test)))\n",
    "print('accuracy for baseline model : {0:.2f}'.format(accuracy_score(y_test, dummy_model.predict(X_test))))"
   ]
  },
  {
   "cell_type": "code",
   "execution_count": 9,
   "metadata": {},
   "outputs": [
    {
     "name": "stdout",
     "output_type": "stream",
     "text": [
      "confusion matrix for baseline model: \n",
      " [[3442    0]\n",
      " [3537    0]]\n"
     ]
    }
   ],
   "source": [
    "print('confusion matrix for baseline model: \\n {0}'.format(confusion_matrix(y_test, dummy_model.predict(X_test))))"
   ]
  },
  {
   "cell_type": "code",
   "execution_count": 10,
   "metadata": {},
   "outputs": [
    {
     "name": "stdout",
     "output_type": "stream",
     "text": [
      "precision for baseline model : 0.00\n",
      "recall for baseline model : 0.00\n"
     ]
    }
   ],
   "source": [
    "print('precision for baseline model : {0:.2f}'.format(precision_score(y_test, dummy_model.predict(X_test))))\n",
    "print('recall for baseline model : {0:.2f}'.format(recall_score(y_test, dummy_model.predict(X_test))))"
   ]
  },
  {
   "cell_type": "markdown",
   "metadata": {},
   "source": [
    "###### Logistic regression model"
   ]
  },
  {
   "cell_type": "code",
   "execution_count": 11,
   "metadata": {},
   "outputs": [],
   "source": [
    "logreg = LogisticRegression()\n",
    "grid={\"C\":np.logspace(-3,3,7), \"penalty\":[\"l1\",\"l2\"]}\n",
    "logreg_cv=GridSearchCV(logreg,grid,cv=10)\n",
    "model = logreg_cv.fit(X_train, y_train)\n",
    "y_pred = logreg_cv.predict(X_test)"
   ]
  },
  {
   "cell_type": "code",
   "execution_count": 12,
   "metadata": {},
   "outputs": [],
   "source": [
    "scores = logreg_cv.score(X_test,y_test)"
   ]
  },
  {
   "cell_type": "code",
   "execution_count": 13,
   "metadata": {},
   "outputs": [
    {
     "name": "stdout",
     "output_type": "stream",
     "text": [
      "Accuracy of logistic regression classifier on test set: 0.68\n"
     ]
    }
   ],
   "source": [
    "print('Accuracy of logistic regression classifier on test set: {:.2f}'.format(scores))"
   ]
  },
  {
   "cell_type": "code",
   "execution_count": 14,
   "metadata": {},
   "outputs": [
    {
     "data": {
      "text/plain": [
       "array([[2503,  939],\n",
       "       [1277, 2260]])"
      ]
     },
     "execution_count": 14,
     "metadata": {},
     "output_type": "execute_result"
    }
   ],
   "source": [
    "confusion_matrix = confusion_matrix(y_test, y_pred)\n",
    "confusion_matrix"
   ]
  },
  {
   "cell_type": "code",
   "execution_count": 15,
   "metadata": {},
   "outputs": [
    {
     "name": "stdout",
     "output_type": "stream",
     "text": [
      "              precision    recall  f1-score   support\n",
      "\n",
      "           0       0.66      0.73      0.69      3442\n",
      "           1       0.71      0.64      0.67      3537\n",
      "\n",
      "    accuracy                           0.68      6979\n",
      "   macro avg       0.68      0.68      0.68      6979\n",
      "weighted avg       0.68      0.68      0.68      6979\n",
      "\n"
     ]
    }
   ],
   "source": [
    "print(classification_report(y_test, y_pred))"
   ]
  },
  {
   "cell_type": "code",
   "execution_count": 16,
   "metadata": {},
   "outputs": [
    {
     "data": {
      "image/png": "[encoded data removed]",
      "text/plain": [
       "<Figure size 432x288 with 1 Axes>"
      ]
     },
     "metadata": {
      "needs_background": "light"
     },
     "output_type": "display_data"
    }
   ],
   "source": [
    "logit_roc_auc = roc_auc_score(y_test, y_pred)\n",
    "\n",
    "fpr, tpr, thresholds = roc_curve(y_test, logreg_cv.predict_proba(X_test)[:,1])\n",
    "\n",
    "\n",
    "plt.figure()\n",
    "plt.plot(fpr, tpr, label='Logistic Regression (area = %0.2f)' % logit_roc_auc)\n",
    "plt.plot([0, 1], [0, 1],'r--')\n",
    "plt.xlim([0.0, 1.0])\n",
    "plt.ylim([0.0, 1.05])\n",
    "plt.xlabel('False Positive Rate')\n",
    "plt.ylabel('True Positive Rate')\n",
    "plt.title('Receiver operating characteristic')\n",
    "plt.legend(loc=\"lower right\")\n",
    "plt.savefig('Log_ROC')\n",
    "plt.show()"
   ]
  },
  {
   "cell_type": "code",
   "execution_count": 23,
   "metadata": {},
   "outputs": [],
   "source": [
    "def logreg(X, y, cv):\n",
    "    \"\"\"\n",
    "    Creates folds manually, perform \n",
    "    Returns an array of validation (recall) scores\n",
    "    \"\"\"\n",
    "    if cv == 'kf':\n",
    "        cv = KFold(n_splits = 10, shuffle = True, random_state = 4)\n",
    "    elif cv == 'skf':\n",
    "        cv = StratifiedKFold(n_splits = 10, shuffle = True, random_state = 4)\n",
    "    else:\n",
    "        cv == None\n",
    "    \n",
    "    scores = []\n",
    "    logreg = LogisticRegression()\n",
    "    grid={\"C\":np.logspace(-3,3,7), \"penalty\":[\"l1\",\"l2\"]}\n",
    "    logreg_cv=GridSearchCV(logreg,grid,cv=10)\n",
    "    for train_index,test_index in cv.split(X,y):\n",
    "        X_train,X_test = X.loc[train_index],X.loc[test_index]\n",
    "        y_train,y_test = y.loc[train_index],y.loc[test_index]\n",
    "\n",
    "        # Fit the model on the training data\n",
    "        model_obj = logreg_cv.fit(X_train, y_train)\n",
    "        # Score the model on the validation data\n",
    "        score = recall_score(y_test, model_obj.predict(X_test))\n",
    "        scores.append(score)\n",
    "    return np.array(scores).mean()\n"
   ]
  },
  {
   "cell_type": "code",
   "execution_count": 18,
   "metadata": {},
   "outputs": [
    {
     "data": {
      "text/plain": [
       "0.6367802118987161"
      ]
     },
     "execution_count": 18,
     "metadata": {},
     "output_type": "execute_result"
    }
   ],
   "source": [
    "logreg(X, y, kf)"
   ]
  },
  {
   "cell_type": "code",
   "execution_count": 19,
   "metadata": {},
   "outputs": [
    {
     "data": {
      "text/plain": [
       "0.636768484824594"
      ]
     },
     "execution_count": 19,
     "metadata": {},
     "output_type": "execute_result"
    }
   ],
   "source": [
    "logreg(X, y, skf)"
   ]
  },
  {
   "cell_type": "code",
   "execution_count": 31,
   "metadata": {},
   "outputs": [],
   "source": [
    "def model_classifier(model, X, y, cv):\n",
    "    \"\"\"\n",
    "    Creates folds manually, perform \n",
    "    Returns an array of validation (recall) scores\n",
    "    \"\"\"\n",
    "    if cv == 'kf':\n",
    "        cv = KFold(n_splits = 10, shuffle = True, random_state = 4)\n",
    "    elif cv == 'skf':\n",
    "        cv = StratifiedKFold(n_splits = 10, shuffle = True, random_state = 4)\n",
    "    else:\n",
    "        cv == None\n",
    "    \n",
    "    scores = []\n",
    "    \n",
    "    \n",
    "    for train_index,test_index in cv.split(X,y):\n",
    "        X_train,X_test = X.loc[train_index],X.loc[test_index]\n",
    "        y_train,y_test = y.loc[train_index],y.loc[test_index]\n",
    "\n",
    "        # Fit the model on the training data\n",
    "        model_obj = model.fit(X_train, y_train)\n",
    "        y_pred = model_obj.predict(X_test)\n",
    "        # Score the model on the validation data\n",
    "        score = accuracy_score(y_test, y_pred)\n",
    "        report = classification_report(y_test, y_pred)\n",
    "        conf_matrix = confusion_matrix(y_test, y_pred)\n",
    "        \n",
    "        scores.append(score)\n",
    "        mean_score = np.array(scores).mean()\n",
    "        \n",
    "    print('Accuracy scores of the model: {:.2f}'.format(mean_score))\n",
    "    print('\\n Classification report of the model')\n",
    "    print('--------------------------------------')\n",
    "    print(report)\n",
    "    \n",
    "    print('\\n Confusion Matrix of the model')\n",
    "    print('--------------------------------------')\n",
    "    print(conf_matrix)\n",
    "    \n"
   ]
  },
  {
   "cell_type": "code",
   "execution_count": 32,
   "metadata": {},
   "outputs": [],
   "source": [
    "logreg = LogisticRegression()"
   ]
  },
  {
   "cell_type": "code",
   "execution_count": 33,
   "metadata": {},
   "outputs": [
    {
     "name": "stdout",
     "output_type": "stream",
     "text": [
      "Accuracy scores of the model: 0.68\n",
      "\n",
      " Classification report of the model\n",
      "--------------------------------------\n",
      "              precision    recall  f1-score   support\n",
      "\n",
      "           0       0.66      0.73      0.69      3442\n",
      "           1       0.71      0.64      0.67      3537\n",
      "\n",
      "    accuracy                           0.68      6979\n",
      "   macro avg       0.69      0.68      0.68      6979\n",
      "weighted avg       0.69      0.68      0.68      6979\n",
      "\n",
      "\n",
      " Confusion Matrix of the model\n",
      "--------------------------------------\n",
      "[[2503  939]\n",
      " [1266 2271]]\n"
     ]
    }
   ],
   "source": [
    "model_classifier(logreg, X, y, kf)"
   ]
  },
  {
   "cell_type": "code",
   "execution_count": 34,
   "metadata": {},
   "outputs": [
    {
     "name": "stdout",
     "output_type": "stream",
     "text": [
      "Accuracy scores of the model: 0.68\n",
      "\n",
      " Classification report of the model\n",
      "--------------------------------------\n",
      "              precision    recall  f1-score   support\n",
      "\n",
      "           0       0.66      0.72      0.69      3489\n",
      "           1       0.69      0.63      0.66      3490\n",
      "\n",
      "    accuracy                           0.68      6979\n",
      "   macro avg       0.68      0.68      0.68      6979\n",
      "weighted avg       0.68      0.68      0.68      6979\n",
      "\n",
      "\n",
      " Confusion Matrix of the model\n",
      "--------------------------------------\n",
      "[[2505  984]\n",
      " [1278 2212]]\n"
     ]
    }
   ],
   "source": [
    "model_classifier(logreg, X, y, skf)"
   ]
  },
  {
   "cell_type": "code",
   "execution_count": 35,
   "metadata": {},
   "outputs": [],
   "source": [
    "xgb = XGBClassifier()"
   ]
  },
  {
   "cell_type": "code",
   "execution_count": 36,
   "metadata": {},
   "outputs": [
    {
     "name": "stdout",
     "output_type": "stream",
     "text": [
      "Accuracy scores of the model: 0.88\n",
      "\n",
      " Classification report of the model\n",
      "--------------------------------------\n",
      "              precision    recall  f1-score   support\n",
      "\n",
      "           0       0.89      0.87      0.88      3442\n",
      "           1       0.88      0.90      0.89      3537\n",
      "\n",
      "    accuracy                           0.88      6979\n",
      "   macro avg       0.89      0.88      0.88      6979\n",
      "weighted avg       0.89      0.88      0.88      6979\n",
      "\n",
      "\n",
      " Confusion Matrix of the model\n",
      "--------------------------------------\n",
      "[[2993  449]\n",
      " [ 354 3183]]\n"
     ]
    }
   ],
   "source": [
    "model_classifier(xgb, X, y, kf)"
   ]
  },
  {
   "cell_type": "code",
   "execution_count": 37,
   "metadata": {},
   "outputs": [
    {
     "name": "stdout",
     "output_type": "stream",
     "text": [
      "Accuracy scores of the model: 0.89\n",
      "\n",
      " Classification report of the model\n",
      "--------------------------------------\n",
      "              precision    recall  f1-score   support\n",
      "\n",
      "           0       0.91      0.87      0.89      3489\n",
      "           1       0.87      0.91      0.89      3490\n",
      "\n",
      "    accuracy                           0.89      6979\n",
      "   macro avg       0.89      0.89      0.89      6979\n",
      "weighted avg       0.89      0.89      0.89      6979\n",
      "\n",
      "\n",
      " Confusion Matrix of the model\n",
      "--------------------------------------\n",
      "[[3024  465]\n",
      " [ 299 3191]]\n"
     ]
    }
   ],
   "source": [
    "model_classifier(xgb, X, y, skf)"
   ]
  },
  {
   "cell_type": "code",
   "execution_count": 38,
   "metadata": {},
   "outputs": [],
   "source": [
    "mlp = MLPClassifier()"
   ]
  },
  {
   "cell_type": "code",
   "execution_count": 39,
   "metadata": {},
   "outputs": [
    {
     "name": "stdout",
     "output_type": "stream",
     "text": [
      "Accuracy scores of the model: 0.73\n",
      "\n",
      " Classification report of the model\n",
      "--------------------------------------\n",
      "              precision    recall  f1-score   support\n",
      "\n",
      "           0       0.69      0.81      0.75      3442\n",
      "           1       0.78      0.65      0.71      3537\n",
      "\n",
      "    accuracy                           0.73      6979\n",
      "   macro avg       0.74      0.73      0.73      6979\n",
      "weighted avg       0.74      0.73      0.73      6979\n",
      "\n",
      "\n",
      " Confusion Matrix of the model\n",
      "--------------------------------------\n",
      "[[2782  660]\n",
      " [1223 2314]]\n"
     ]
    }
   ],
   "source": [
    "model_classifier(mlp, X, y, kf)"
   ]
  },
  {
   "cell_type": "code",
   "execution_count": 40,
   "metadata": {},
   "outputs": [
    {
     "name": "stdout",
     "output_type": "stream",
     "text": [
      "Accuracy scores of the model: 0.73\n",
      "\n",
      " Classification report of the model\n",
      "--------------------------------------\n",
      "              precision    recall  f1-score   support\n",
      "\n",
      "           0       0.71      0.78      0.74      3489\n",
      "           1       0.76      0.68      0.72      3490\n",
      "\n",
      "    accuracy                           0.73      6979\n",
      "   macro avg       0.73      0.73      0.73      6979\n",
      "weighted avg       0.73      0.73      0.73      6979\n",
      "\n",
      "\n",
      " Confusion Matrix of the model\n",
      "--------------------------------------\n",
      "[[2727  762]\n",
      " [1112 2378]]\n"
     ]
    }
   ],
   "source": [
    "model_classifier(mlp, X, y, skf)"
   ]
  },
  {
   "cell_type": "code",
   "execution_count": 43,
   "metadata": {},
   "outputs": [],
   "source": [
    "clf = svm.SVC(kernel='linear')"
   ]
  },
  {
   "cell_type": "code",
   "execution_count": 44,
   "metadata": {},
   "outputs": [
    {
     "name": "stdout",
     "output_type": "stream",
     "text": [
      "Accuracy scores of the model: 0.68\n",
      "\n",
      " Classification report of the model\n",
      "--------------------------------------\n",
      "              precision    recall  f1-score   support\n",
      "\n",
      "           0       0.66      0.74      0.70      3442\n",
      "           1       0.72      0.62      0.67      3537\n",
      "\n",
      "    accuracy                           0.68      6979\n",
      "   macro avg       0.69      0.68      0.68      6979\n",
      "weighted avg       0.69      0.68      0.68      6979\n",
      "\n",
      "\n",
      " Confusion Matrix of the model\n",
      "--------------------------------------\n",
      "[[2563  879]\n",
      " [1331 2206]]\n"
     ]
    }
   ],
   "source": [
    "model_classifier(clf, X, y, kf)"
   ]
  },
  {
   "cell_type": "markdown",
   "metadata": {},
   "source": [
    "###### ROC plots "
   ]
  },
  {
   "cell_type": "code",
   "execution_count": 51,
   "metadata": {},
   "outputs": [],
   "source": [
    "import os\n",
    "my_path = os.path.join(os.path.pardir, 'reports','figures')\n",
    "\n",
    "    \n",
    "def roc_plot(model, X, y, cv):\n",
    "    for train_index,test_index in cv.split(X,y):\n",
    "        X_train,X_test = X.loc[train_index],X.loc[test_index]\n",
    "        y_train,y_test = y.loc[train_index],y.loc[test_index]\n",
    "        model_obj = model.fit(X_train, y_train)\n",
    "        y_pred = model_obj.predict(X_test)\n",
    "        y_pred_prob = model_obj.predict_proba(X_test)[:,1]\n",
    "        \n",
    "        logit_roc_auc = roc_auc_score(y_test, y_pred)\n",
    "        fpr, tpr, thresholds = roc_curve(y_test, y_pred_prob)\n",
    "    plt.figure()\n",
    "    val_model = input(\"Enter your model name: \")\n",
    "    plt.plot(fpr, tpr, label= val_model + ' (area = %0.2f)' % logit_roc_auc)\n",
    "    plt.plot([0, 1], [0, 1],'r--')\n",
    "    plt.xlim([0.0, 1.0])\n",
    "    plt.ylim([0.0, 1.05])\n",
    "    plt.xlabel('False Positive Rate')\n",
    "    plt.ylabel('True Positive Rate')\n",
    "    plt.title('Receiver operating characteristic')\n",
    "    plt.legend(loc=\"lower right\")\n",
    "    my_fig = val_model + '.png'\n",
    "    plt.savefig(os.path.join(my_path, my_fig))\n",
    "    plt.show()"
   ]
  },
  {
   "cell_type": "code",
   "execution_count": 52,
   "metadata": {},
   "outputs": [
    {
     "name": "stdout",
     "output_type": "stream",
     "text": [
      "Enter your model name: logisticKFold\n"
     ]
    },
    {
     "data": {
      "image/png": "[encoded data removed]",
      "text/plain": [
       "<Figure size 432x288 with 1 Axes>"
      ]
     },
     "metadata": {
      "needs_background": "light"
     },
     "output_type": "display_data"
    }
   ],
   "source": [
    "roc_plot(logreg, X, y, kf)"
   ]
  },
  {
   "cell_type": "code",
   "execution_count": 53,
   "metadata": {},
   "outputs": [
    {
     "name": "stdout",
     "output_type": "stream",
     "text": [
      "Enter your model name: logisticSKFold\n"
     ]
    },
    {
     "data": {
      "image/png": "[encoded data removed]",
      "text/plain": [
       "<Figure size 432x288 with 1 Axes>"
      ]
     },
     "metadata": {
      "needs_background": "light"
     },
     "output_type": "display_data"
    }
   ],
   "source": [
    "roc_plot(logreg, X, y, skf)"
   ]
  },
  {
   "cell_type": "code",
   "execution_count": 54,
   "metadata": {},
   "outputs": [
    {
     "name": "stdout",
     "output_type": "stream",
     "text": [
      "Enter your model name: XGBoostKFold\n"
     ]
    },
    {
     "data": {
      "image/png": "[encoded data removed]",
      "text/plain": [
       "<Figure size 432x288 with 1 Axes>"
      ]
     },
     "metadata": {
      "needs_background": "light"
     },
     "output_type": "display_data"
    }
   ],
   "source": [
    "roc_plot(xgb, X, y, kf)"
   ]
  },
  {
   "cell_type": "code",
   "execution_count": 55,
   "metadata": {},
   "outputs": [
    {
     "name": "stdout",
     "output_type": "stream",
     "text": [
      "Enter your model name: XGBoostSKFold\n"
     ]
    },
    {
     "data": {
      "image/png": "[encoded data removed]",
      "text/plain": [
       "<Figure size 432x288 with 1 Axes>"
      ]
     },
     "metadata": {
      "needs_background": "light"
     },
     "output_type": "display_data"
    }
   ],
   "source": [
    "roc_plot(xgb, X, y, skf)"
   ]
  },
  {
   "cell_type": "code",
   "execution_count": 50,
   "metadata": {},
   "outputs": [
    {
     "name": "stdout",
     "output_type": "stream",
     "text": [
      "Enter your model name: MLP\n"
     ]
    },
    {
     "data": {
      "image/png": "[encoded data removed]",
      "text/plain": [
       "<Figure size 432x288 with 1 Axes>"
      ]
     },
     "metadata": {
      "needs_background": "light"
     },
     "output_type": "display_data"
    }
   ],
   "source": [
    "roc_plot(mlp, X, y, kf)"
   ]
  }
 ],
 "metadata": {
  "kernelspec": {
   "display_name": "Python 3",
   "language": "python",
   "name": "python3"
  },
  "language_info": {
   "codemirror_mode": {
    "name": "ipython",
    "version": 3
   },
   "file_extension": ".py",
   "mimetype": "text/x-python",
   "name": "python",
   "nbconvert_exporter": "python",
   "pygments_lexer": "ipython3",
   "version": "3.7.6"
  },
  "toc": {
   "base_numbering": 1,
   "nav_menu": {},
   "number_sections": true,
   "sideBar": true,
   "skip_h1_title": false,
   "title_cell": "Table of Contents",
   "title_sidebar": "Contents",
   "toc_cell": false,
   "toc_position": {},
   "toc_section_display": true,
   "toc_window_display": false
  }
 },
 "nbformat": 4,
 "nbformat_minor": 4
}
