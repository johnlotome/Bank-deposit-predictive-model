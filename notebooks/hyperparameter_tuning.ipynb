{
  "nbformat": 4,
  "nbformat_minor": 0,
  "metadata": {
    "colab": {
      "name": "Untitled",
      "provenance": [],
      "collapsed_sections": [
        "s7Moq2MQ6rBP",
        "fMaj1jQHru9g"
      ]
    },
    "kernelspec": {
      "name": "python3",
      "display_name": "Python 3"
    }
  },
  "cells": [
    {
      "cell_type": "code",
      "metadata": {
        "id": "HdJN3Irr4v8Q",
        "colab_type": "code",
        "colab": {}
      },
      "source": [
        "import pandas as pd\n",
        "import numpy as np\n",
        "from sklearn.model_selection import KFold\n",
        "from sklearn.model_selection import StratifiedKFold\n",
        "from sklearn.model_selection import cross_val_score\n",
        "from sklearn.model_selection import GridSearchCV\n",
        "from sklearn.metrics import roc_auc_score\n",
        "from sklearn.metrics import roc_curve\n",
        "from sklearn.metrics import accuracy_score, confusion_matrix, precision_score, recall_score, classification_report\n",
        "from sklearn.dummy import DummyClassifier\n",
        "from sklearn import svm\n",
        "from sklearn.linear_model import LogisticRegression\n",
        "from xgboost import XGBClassifier\n",
        "from sklearn.neural_network import MLPClassifier\n",
        "from sklearn.metrics import roc_curve\n",
        "from sklearn.metrics import auc\n",
        "from sklearn.ensemble import IsolationForest\n",
        "import warnings\n",
        "warnings.filterwarnings(\"ignore\")\n",
        "import matplotlib.pyplot as plt"
      ],
      "execution_count": 34,
      "outputs": []
    },
    {
      "cell_type": "code",
      "metadata": {
        "id": "z_kObREK45iA",
        "colab_type": "code",
        "colab": {}
      },
      "source": [
        "X = pd.read_csv(\"/content/drive/My Drive/10Acad/bank-additional/bank-additional/features.csv\")\n",
        "y = pd.read_csv(\"/content/drive/My Drive/10Acad/bank-additional/bank-additional/results.csv\")"
      ],
      "execution_count": 35,
      "outputs": []
    },
    {
      "cell_type": "code",
      "metadata": {
        "id": "ePWieAxTCd2X",
        "colab_type": "code",
        "colab": {}
      },
      "source": [
        "kf = KFold(n_splits = 10, shuffle = True, random_state = 4)\n",
        "skf = StratifiedKFold(n_splits = 10, shuffle = True, random_state = 4)"
      ],
      "execution_count": 36,
      "outputs": []
    },
    {
      "cell_type": "code",
      "metadata": {
        "id": "ybksDaiUCOdr",
        "colab_type": "code",
        "colab": {}
      },
      "source": [
        "def model_classifier(model, X, y, cv):\n",
        "    \"\"\"\n",
        "    Creates folds manually, perform \n",
        "    Returns an array of validation (recall) scores\n",
        "    \"\"\"\n",
        "    if cv == 'kf':\n",
        "        cv = KFold(n_splits = 10, shuffle = True, random_state = 4)\n",
        "    elif cv == 'skf':\n",
        "        cv = StratifiedKFold(n_splits = 10, shuffle = True, random_state = 4)\n",
        "    else:\n",
        "        cv == None\n",
        "    \n",
        "    scores = []\n",
        "    \n",
        "    \n",
        "    for train_index,test_index in cv.split(X,y):\n",
        "        X_train,X_test = X.loc[train_index],X.loc[test_index]\n",
        "        y_train,y_test = y.loc[train_index],y.loc[test_index]\n",
        "\n",
        "        # Fit the model on the training data\n",
        "        model_obj = model.fit(X_train, y_train)\n",
        "        y_pred = model_obj.predict(X_test)\n",
        "        # Score the model on the validation data\n",
        "        score = accuracy_score(y_test, y_pred)\n",
        "        report = classification_report(y_test, y_pred)\n",
        "        conf_matrix = confusion_matrix(y_test, y_pred)\n",
        "        \n",
        "        scores.append(score)\n",
        "        mean_score = np.array(scores).mean()\n",
        "        \n",
        "    print('Accuracy scores of the model: {:.2f}'.format(mean_score))\n",
        "    print('\\n Classification report of the model')\n",
        "    print('--------------------------------------')\n",
        "    print(report)\n",
        "    \n",
        "    print('\\n Confusion Matrix of the model')\n",
        "    print('--------------------------------------')\n",
        "    print(conf_matrix)\n",
        "    \n"
      ],
      "execution_count": 37,
      "outputs": []
    },
    {
      "cell_type": "code",
      "metadata": {
        "id": "fN16M8jH5HWN",
        "colab_type": "code",
        "colab": {}
      },
      "source": [
        "def roc_plot(model, X, y, cv):\n",
        "  '''ROC plot function '''\n",
        "\n",
        "  for train_index,test_index in cv.split(X,y):\n",
        "    X_train,X_test = X.loc[train_index],X.loc[test_index]\n",
        "    y_train,y_test = y.loc[train_index],y.loc[test_index]\n",
        "    model_obj = model.fit(X_train, y_train)\n",
        "    y_pred = model_obj.predict(X_test)\n",
        "    y_pred_prob = model_obj.predict_proba(X_test)[:,1]\n",
        "        \n",
        "  logit_roc_auc = roc_auc_score(y_test, y_pred)\n",
        "  fpr, tpr, thresholds = roc_curve(y_test, y_pred_prob)\n",
        "  plt.figure()\n",
        "  val_model = input(\"Enter your model name: \")\n",
        "  plt.plot(fpr, tpr, label= val_model + ' (area = %0.2f)' % logit_roc_auc)\n",
        "  plt.plot([0, 1], [0, 1],'r--')\n",
        "  plt.xlim([0.0, 1.0])\n",
        "  plt.ylim([0.0, 1.05])\n",
        "  plt.xlabel('False Positive Rate')\n",
        "  plt.ylabel('True Positive Rate')\n",
        "  plt.title('Receiver operating characteristic')\n",
        "  plt.legend(loc=\"lower right\")\n",
        "  plt.show()"
      ],
      "execution_count": 38,
      "outputs": []
    },
    {
      "cell_type": "markdown",
      "metadata": {
        "id": "SSSzJfu2rCRh",
        "colab_type": "text"
      },
      "source": [
        "#### HYPER-PARAMETER TUNING USING RANDOMIZEDSEARCHCV"
      ]
    },
    {
      "cell_type": "markdown",
      "metadata": {
        "id": "1VLIWRVcz3YQ",
        "colab_type": "text"
      },
      "source": [
        "##### LOGISTIC REGRESSION"
      ]
    },
    {
      "cell_type": "code",
      "metadata": {
        "id": "vHkavGN40ZGj",
        "colab_type": "code",
        "colab": {}
      },
      "source": [
        "logreg = LogisticRegression()\n",
        "grid={\"C\":np.logspace(-3,3,7), \"penalty\":[\"l1\",\"l2\"], \"solver\":['liblinear', 'saga']}\n",
        "logreg_cv = RandomizedSearchCV(logreg, grid)"
      ],
      "execution_count": null,
      "outputs": []
    },
    {
      "cell_type": "markdown",
      "metadata": {
        "id": "SK5Adxm1z9BC",
        "colab_type": "text"
      },
      "source": [
        "###### USING KFOLD"
      ]
    },
    {
      "cell_type": "code",
      "metadata": {
        "id": "7pxDFqKa2u6K",
        "colab_type": "code",
        "colab": {
          "base_uri": "https://localhost:8080/",
          "height": 323
        },
        "outputId": "3fd48704-950b-4438-f55b-e4b88ca20a44"
      },
      "source": [
        "model_classifier(logreg_cv, X, y, kf)"
      ],
      "execution_count": null,
      "outputs": [
        {
          "output_type": "stream",
          "text": [
            "Accuracy scores of the model: 0.68\n",
            "\n",
            " Classification report of the model\n",
            "--------------------------------------\n",
            "              precision    recall  f1-score   support\n",
            "\n",
            "           0       0.66      0.74      0.70      3442\n",
            "           1       0.71      0.63      0.67      3537\n",
            "\n",
            "    accuracy                           0.68      6979\n",
            "   macro avg       0.69      0.69      0.68      6979\n",
            "weighted avg       0.69      0.68      0.68      6979\n",
            "\n",
            "\n",
            " Confusion Matrix of the model\n",
            "--------------------------------------\n",
            "[[2553  889]\n",
            " [1311 2226]]\n"
          ],
          "name": "stdout"
        }
      ]
    },
    {
      "cell_type": "markdown",
      "metadata": {
        "id": "UzpCmTQh0BeR",
        "colab_type": "text"
      },
      "source": [
        "###### USING STRATIFIED KFOLD"
      ]
    },
    {
      "cell_type": "code",
      "metadata": {
        "id": "i71nmRCT0JOa",
        "colab_type": "code",
        "colab": {
          "base_uri": "https://localhost:8080/",
          "height": 323
        },
        "outputId": "6d76f291-49d1-4784-b953-4e15c5c08e9e"
      },
      "source": [
        "model_classifier(logreg_cv, X, y, skf)"
      ],
      "execution_count": null,
      "outputs": [
        {
          "output_type": "stream",
          "text": [
            "Accuracy scores of the model: 0.68\n",
            "\n",
            " Classification report of the model\n",
            "--------------------------------------\n",
            "              precision    recall  f1-score   support\n",
            "\n",
            "           0       0.66      0.72      0.69      3489\n",
            "           1       0.69      0.64      0.66      3490\n",
            "\n",
            "    accuracy                           0.68      6979\n",
            "   macro avg       0.68      0.68      0.68      6979\n",
            "weighted avg       0.68      0.68      0.68      6979\n",
            "\n",
            "\n",
            " Confusion Matrix of the model\n",
            "--------------------------------------\n",
            "[[2515  974]\n",
            " [1272 2218]]\n"
          ],
          "name": "stdout"
        }
      ]
    },
    {
      "cell_type": "markdown",
      "metadata": {
        "id": "s7Moq2MQ6rBP",
        "colab_type": "text"
      },
      "source": [
        "###### ROC PLOT"
      ]
    },
    {
      "cell_type": "code",
      "metadata": {
        "id": "jKDesUR16nW_",
        "colab_type": "code",
        "colab": {
          "base_uri": "https://localhost:8080/",
          "height": 312
        },
        "outputId": "191eae8f-aa96-43dc-9be9-3373bdcd6b54"
      },
      "source": [
        "roc_plot(logreg_cv, X, y, skf)"
      ],
      "execution_count": null,
      "outputs": [
        {
          "output_type": "stream",
          "text": [
            "Enter your model name: logisticRegressionSKFold\n"
          ],
          "name": "stdout"
        },
        {
          "output_type": "display_data",
          "data": {
            "image/png": "[encoded data removed]",
            "text/plain": [
              "<Figure size 432x288 with 1 Axes>"
            ]
          },
          "metadata": {
            "tags": [],
            "needs_background": "light"
          }
        }
      ]
    },
    {
      "cell_type": "code",
      "metadata": {
        "id": "YLPpc0CU67vn",
        "colab_type": "code",
        "colab": {
          "base_uri": "https://localhost:8080/",
          "height": 312
        },
        "outputId": "171fbc8a-b846-42f2-d1d4-7ca5283ef989"
      },
      "source": [
        "roc_plot(logreg_cv, X, y, kf)"
      ],
      "execution_count": null,
      "outputs": [
        {
          "output_type": "stream",
          "text": [
            "Enter your model name: logisticRegressionKFold\n"
          ],
          "name": "stdout"
        },
        {
          "output_type": "display_data",
          "data": {
            "image/png": "[encoded data removed]",
            "text/plain": [
              "<Figure size 432x288 with 1 Axes>"
            ]
          },
          "metadata": {
            "tags": [],
            "needs_background": "light"
          }
        }
      ]
    },
    {
      "cell_type": "markdown",
      "metadata": {
        "id": "fMaj1jQHru9g",
        "colab_type": "text"
      },
      "source": [
        "##### XGBOOST "
      ]
    },
    {
      "cell_type": "code",
      "metadata": {
        "id": "RwIa9IwW6U_D",
        "colab_type": "code",
        "colab": {
          "base_uri": "https://localhost:8080/",
          "height": 459
        },
        "outputId": "1b413f7d-82c8-4eb6-cb04-48a76c5e81e6"
      },
      "source": [
        "from sklearn.model_selection import RandomizedSearchCV\n",
        "skf = StratifiedKFold(n_splits = 10, shuffle = True, random_state = 4)\n",
        "params = {\n",
        "        'min_child_weight': [1, 5, 10],\n",
        "        'gamma': [0.5, 1, 1.5, 2, 5],\n",
        "        'subsample': [0.6, 0.8, 1.0],\n",
        "        'colsample_bytree': [0.6, 0.8, 1.0],\n",
        "        'max_depth': [3, 4, 5]\n",
        "        }\n",
        "\n",
        "xgb_hyp = XGBClassifier(learning_rate=0.02, n_estimators=600, objective='binary:logistic',\n",
        "                    silent=True, nthread=1)\n",
        "\n",
        "xgb_random_search = RandomizedSearchCV(xgb_hyp, param_distributions=params, n_iter=5, scoring='roc_auc', \n",
        "                                       n_jobs=4, cv=skf.split(X,y), verbose=3, random_state=1001)\n",
        "\n",
        "xgb_random_search.fit(X, y)"
      ],
      "execution_count": null,
      "outputs": [
        {
          "output_type": "stream",
          "text": [
            "Fitting 10 folds for each of 5 candidates, totalling 50 fits\n"
          ],
          "name": "stdout"
        },
        {
          "output_type": "stream",
          "text": [
            "[Parallel(n_jobs=4)]: Using backend LokyBackend with 4 concurrent workers.\n",
            "[Parallel(n_jobs=4)]: Done  24 tasks      | elapsed: 12.4min\n",
            "[Parallel(n_jobs=4)]: Done  50 out of  50 | elapsed: 25.3min finished\n"
          ],
          "name": "stderr"
        },
        {
          "output_type": "execute_result",
          "data": {
            "text/plain": [
              "RandomizedSearchCV(cv=<generator object _BaseKFold.split at 0x7f4a4522cc50>,\n",
              "                   error_score=nan,\n",
              "                   estimator=XGBClassifier(base_score=0.5, booster='gbtree',\n",
              "                                           colsample_bylevel=1,\n",
              "                                           colsample_bynode=1,\n",
              "                                           colsample_bytree=1, gamma=0,\n",
              "                                           learning_rate=0.02, max_delta_step=0,\n",
              "                                           max_depth=3, min_child_weight=1,\n",
              "                                           missing=None, n_estimators=600,\n",
              "                                           n_jobs=1, nthread=1,\n",
              "                                           objective='binary:logist...\n",
              "                                           reg_lambda=1, scale_pos_weight=1,\n",
              "                                           seed=None, silent=True, subsample=1,\n",
              "                                           verbosity=1),\n",
              "                   iid='deprecated', n_iter=5, n_jobs=4,\n",
              "                   param_distributions={'colsample_bytree': [0.6, 0.8, 1.0],\n",
              "                                        'gamma': [0.5, 1, 1.5, 2, 5],\n",
              "                                        'max_depth': [3, 4, 5],\n",
              "                                        'min_child_weight': [1, 5, 10],\n",
              "                                        'subsample': [0.6, 0.8, 1.0]},\n",
              "                   pre_dispatch='2*n_jobs', random_state=1001, refit=True,\n",
              "                   return_train_score=False, scoring='roc_auc', verbose=3)"
            ]
          },
          "metadata": {
            "tags": []
          },
          "execution_count": 6
        }
      ]
    },
    {
      "cell_type": "code",
      "metadata": {
        "id": "DwnZ84GMHtCR",
        "colab_type": "code",
        "colab": {
          "base_uri": "https://localhost:8080/",
          "height": 102
        },
        "outputId": "87d71f22-23fd-4b94-df51-f146d2ebb2c6"
      },
      "source": [
        "xgb_random_search.best_params_"
      ],
      "execution_count": null,
      "outputs": [
        {
          "output_type": "execute_result",
          "data": {
            "text/plain": [
              "{'colsample_bytree': 0.8,\n",
              " 'gamma': 1.5,\n",
              " 'max_depth': 5,\n",
              " 'min_child_weight': 1,\n",
              " 'subsample': 0.6}"
            ]
          },
          "metadata": {
            "tags": []
          },
          "execution_count": 7
        }
      ]
    },
    {
      "cell_type": "markdown",
      "metadata": {
        "id": "cplimaSwsMAM",
        "colab_type": "text"
      },
      "source": [
        "###### KFOLD ON XGBOOST"
      ]
    },
    {
      "cell_type": "code",
      "metadata": {
        "id": "c4W3Ce9oC5h2",
        "colab_type": "code",
        "colab": {}
      },
      "source": [
        " clf =XGBClassifier(colsample_bytree= 0.8, gamma = 1.5, max_depth = 5, min_child_weight =1, subsample = 0.6)"
      ],
      "execution_count": null,
      "outputs": []
    },
    {
      "cell_type": "code",
      "metadata": {
        "id": "Xv39y3_2Dydh",
        "colab_type": "code",
        "colab": {
          "base_uri": "https://localhost:8080/",
          "height": 323
        },
        "outputId": "146d4a62-023a-4477-de49-ca0524b151ed"
      },
      "source": [
        "model_classifier(clf, X, y, kf)"
      ],
      "execution_count": null,
      "outputs": [
        {
          "output_type": "stream",
          "text": [
            "Accuracy scores of the model: 0.76\n",
            "\n",
            " Classification report of the model\n",
            "--------------------------------------\n",
            "              precision    recall  f1-score   support\n",
            "\n",
            "           0       0.72      0.83      0.77      3442\n",
            "           1       0.81      0.69      0.74      3537\n",
            "\n",
            "    accuracy                           0.76      6979\n",
            "   macro avg       0.76      0.76      0.76      6979\n",
            "weighted avg       0.77      0.76      0.76      6979\n",
            "\n",
            "\n",
            " Confusion Matrix of the model\n",
            "--------------------------------------\n",
            "[[2864  578]\n",
            " [1104 2433]]\n"
          ],
          "name": "stdout"
        }
      ]
    },
    {
      "cell_type": "code",
      "metadata": {
        "id": "K34AWB0KL_Cd",
        "colab_type": "code",
        "colab": {
          "base_uri": "https://localhost:8080/",
          "height": 136
        },
        "outputId": "0748faeb-a0da-4260-e1cb-6ef8e375ca2b"
      },
      "source": [
        "xgb_random_search.best_estimator_"
      ],
      "execution_count": null,
      "outputs": [
        {
          "output_type": "execute_result",
          "data": {
            "text/plain": [
              "XGBClassifier(base_score=0.5, booster='gbtree', colsample_bylevel=1,\n",
              "              colsample_bynode=1, colsample_bytree=0.8, gamma=1.5,\n",
              "              learning_rate=0.02, max_delta_step=0, max_depth=5,\n",
              "              min_child_weight=1, missing=None, n_estimators=600, n_jobs=1,\n",
              "              nthread=1, objective='binary:logistic', random_state=0,\n",
              "              reg_alpha=0, reg_lambda=1, scale_pos_weight=1, seed=None,\n",
              "              silent=True, subsample=0.6, verbosity=1)"
            ]
          },
          "metadata": {
            "tags": []
          },
          "execution_count": 11
        }
      ]
    },
    {
      "cell_type": "code",
      "metadata": {
        "id": "hDutZu5UqJ4j",
        "colab_type": "code",
        "colab": {}
      },
      "source": [
        "clf = XGBClassifier(base_score=0.5, booster='gbtree', colsample_bylevel=1,\n",
        "              colsample_bynode=1, colsample_bytree=0.8, gamma=1.5,\n",
        "              learning_rate=0.02, max_delta_step=0, max_depth=5,\n",
        "              min_child_weight=1, missing=None, n_estimators=600, n_jobs=1,\n",
        "              nthread=1, objective='binary:logistic', random_state=0,\n",
        "              reg_alpha=0, reg_lambda=1, scale_pos_weight=1, seed=None,\n",
        "              silent=True, subsample=0.6, verbosity=1)"
      ],
      "execution_count": null,
      "outputs": []
    },
    {
      "cell_type": "code",
      "metadata": {
        "id": "YvbsJdfAqae2",
        "colab_type": "code",
        "colab": {
          "base_uri": "https://localhost:8080/",
          "height": 323
        },
        "outputId": "294d3960-eebe-490c-9f7c-2039a1eb0779"
      },
      "source": [
        "model_classifier(clf, X, y, kf)"
      ],
      "execution_count": null,
      "outputs": [
        {
          "output_type": "stream",
          "text": [
            "Accuracy scores of the model: 0.77\n",
            "\n",
            " Classification report of the model\n",
            "--------------------------------------\n",
            "              precision    recall  f1-score   support\n",
            "\n",
            "           0       0.73      0.84      0.78      3442\n",
            "           1       0.82      0.70      0.75      3537\n",
            "\n",
            "    accuracy                           0.77      6979\n",
            "   macro avg       0.78      0.77      0.77      6979\n",
            "weighted avg       0.78      0.77      0.77      6979\n",
            "\n",
            "\n",
            " Confusion Matrix of the model\n",
            "--------------------------------------\n",
            "[[2906  536]\n",
            " [1071 2466]]\n"
          ],
          "name": "stdout"
        }
      ]
    },
    {
      "cell_type": "markdown",
      "metadata": {
        "id": "nQzoGQPBtQUK",
        "colab_type": "text"
      },
      "source": [
        "###### STRATIFIEDKFOLD ON XGBOOST"
      ]
    },
    {
      "cell_type": "code",
      "metadata": {
        "id": "9BDBcZVjJ66-",
        "colab_type": "code",
        "colab": {
          "base_uri": "https://localhost:8080/",
          "height": 323
        },
        "outputId": "c460d47e-fe04-4ebc-983d-627224ba537c"
      },
      "source": [
        "model_classifier(clf, X, y, skf)"
      ],
      "execution_count": null,
      "outputs": [
        {
          "output_type": "stream",
          "text": [
            "Accuracy scores of the model: 0.77\n",
            "\n",
            " Classification report of the model\n",
            "--------------------------------------\n",
            "              precision    recall  f1-score   support\n",
            "\n",
            "           0       0.74      0.84      0.78      3489\n",
            "           1       0.81      0.70      0.75      3490\n",
            "\n",
            "    accuracy                           0.77      6979\n",
            "   macro avg       0.77      0.77      0.77      6979\n",
            "weighted avg       0.77      0.77      0.77      6979\n",
            "\n",
            "\n",
            " Confusion Matrix of the model\n",
            "--------------------------------------\n",
            "[[2926  563]\n",
            " [1047 2443]]\n"
          ],
          "name": "stdout"
        }
      ]
    },
    {
      "cell_type": "markdown",
      "metadata": {
        "id": "ZFIbLybM9zkx",
        "colab_type": "text"
      },
      "source": [
        "###### ROC PLOT"
      ]
    },
    {
      "cell_type": "code",
      "metadata": {
        "id": "iGh1TBZ-94AQ",
        "colab_type": "code",
        "colab": {
          "base_uri": "https://localhost:8080/",
          "height": 312
        },
        "outputId": "fec51fd6-56eb-4a21-cb12-a4aacc283b30"
      },
      "source": [
        "roc_plot(clf, X, y, skf)"
      ],
      "execution_count": null,
      "outputs": [
        {
          "output_type": "stream",
          "text": [
            "Enter your model name: XGBoostSKFold\n"
          ],
          "name": "stdout"
        },
        {
          "output_type": "display_data",
          "data": {
            "image/png": "[encoded data removed]",
            "text/plain": [
              "<Figure size 432x288 with 1 Axes>"
            ]
          },
          "metadata": {
            "tags": [],
            "needs_background": "light"
          }
        }
      ]
    },
    {
      "cell_type": "code",
      "metadata": {
        "id": "HHec5tZH_9JP",
        "colab_type": "code",
        "colab": {
          "base_uri": "https://localhost:8080/",
          "height": 312
        },
        "outputId": "129ae4aa-3470-4a85-9ccf-e9ac0efbaa1e"
      },
      "source": [
        "roc_plot(clf, X, y, kf)"
      ],
      "execution_count": null,
      "outputs": [
        {
          "output_type": "stream",
          "text": [
            "Enter your model name: XGBoostKFold\n"
          ],
          "name": "stdout"
        },
        {
          "output_type": "display_data",
          "data": {
            "image/png": "[encoded data removed]",
            "text/plain": [
              "<Figure size 432x288 with 1 Axes>"
            ]
          },
          "metadata": {
            "tags": [],
            "needs_background": "light"
          }
        }
      ]
    },
    {
      "cell_type": "markdown",
      "metadata": {
        "id": "TP0Sx6Uk-CYA",
        "colab_type": "text"
      },
      "source": [
        "##### MLP"
      ]
    },
    {
      "cell_type": "code",
      "metadata": {
        "id": "7YGX2rF-AjkE",
        "colab_type": "code",
        "colab": {}
      },
      "source": [
        "mlp = MLPClassifier(activation='tanh', alpha=0.0001, batch_size='auto', beta_1=0.9,\n",
        "              beta_2=0.999, early_stopping=False, epsilon=1e-08,\n",
        "              hidden_layer_sizes=(10, 30, 10), learning_rate='constant',\n",
        "              learning_rate_init=0.001, max_fun=15000, max_iter=200,\n",
        "              momentum=0.9, n_iter_no_change=10, nesterovs_momentum=True,\n",
        "              power_t=0.5, random_state=None, shuffle=True, solver='adam',\n",
        "              tol=0.0001, validation_fraction=0.1, verbose=False,\n",
        "              warm_start=False)"
      ],
      "execution_count": 39,
      "outputs": []
    },
    {
      "cell_type": "markdown",
      "metadata": {
        "id": "k2XSH9qbA9-D",
        "colab_type": "text"
      },
      "source": [
        "###### STRATIFIEDKFOLD ON MLP"
      ]
    },
    {
      "cell_type": "code",
      "metadata": {
        "id": "dAb0_N3rBKpj",
        "colab_type": "code",
        "colab": {
          "base_uri": "https://localhost:8080/",
          "height": 323
        },
        "outputId": "74a04ac8-1d6a-4105-c019-91dc749ee288"
      },
      "source": [
        "model_classifier(mlp, X, y, skf)"
      ],
      "execution_count": null,
      "outputs": [
        {
          "output_type": "stream",
          "text": [
            "Accuracy scores of the model: 0.73\n",
            "\n",
            " Classification report of the model\n",
            "--------------------------------------\n",
            "              precision    recall  f1-score   support\n",
            "\n",
            "           0       0.72      0.76      0.74      3489\n",
            "           1       0.74      0.70      0.72      3490\n",
            "\n",
            "    accuracy                           0.73      6979\n",
            "   macro avg       0.73      0.73      0.73      6979\n",
            "weighted avg       0.73      0.73      0.73      6979\n",
            "\n",
            "\n",
            " Confusion Matrix of the model\n",
            "--------------------------------------\n",
            "[[2650  839]\n",
            " [1039 2451]]\n"
          ],
          "name": "stdout"
        }
      ]
    },
    {
      "cell_type": "markdown",
      "metadata": {
        "id": "um41EniIBFGC",
        "colab_type": "text"
      },
      "source": [
        "###### KFOLD ON MLP"
      ]
    },
    {
      "cell_type": "code",
      "metadata": {
        "id": "pcLcry9nJq0t",
        "colab_type": "code",
        "colab": {
          "base_uri": "https://localhost:8080/",
          "height": 323
        },
        "outputId": "09d41f79-ab46-4b4a-e94f-bb7ebf44b2f2"
      },
      "source": [
        "model_classifier(mlp, X, y, kf)"
      ],
      "execution_count": 33,
      "outputs": [
        {
          "output_type": "stream",
          "text": [
            "Accuracy scores of the model: 0.72\n",
            "\n",
            " Classification report of the model\n",
            "--------------------------------------\n",
            "              precision    recall  f1-score   support\n",
            "\n",
            "           0       0.69      0.80      0.74      3442\n",
            "           1       0.77      0.64      0.70      3537\n",
            "\n",
            "    accuracy                           0.72      6979\n",
            "   macro avg       0.73      0.72      0.72      6979\n",
            "weighted avg       0.73      0.72      0.72      6979\n",
            "\n",
            "\n",
            " Confusion Matrix of the model\n",
            "--------------------------------------\n",
            "[[2743  699]\n",
            " [1260 2277]]\n"
          ],
          "name": "stdout"
        }
      ]
    },
    {
      "cell_type": "markdown",
      "metadata": {
        "id": "rigKro9_BXNc",
        "colab_type": "text"
      },
      "source": [
        "###### ROC PLOT"
      ]
    },
    {
      "cell_type": "code",
      "metadata": {
        "id": "uGlgTpr8Bco4",
        "colab_type": "code",
        "colab": {
          "base_uri": "https://localhost:8080/",
          "height": 312
        },
        "outputId": "c9ac66fc-eef7-4c3b-9d0e-f0bc53c898bc"
      },
      "source": [
        "roc_plot(mlp, X, y, skf)"
      ],
      "execution_count": 40,
      "outputs": [
        {
          "output_type": "stream",
          "text": [
            "Enter your model name: MLP_SKFold\n"
          ],
          "name": "stdout"
        },
        {
          "output_type": "display_data",
          "data": {
            "image/png": "[encoded data removed]",
            "text/plain": [
              "<Figure size 432x288 with 1 Axes>"
            ]
          },
          "metadata": {
            "tags": [],
            "needs_background": "light"
          }
        }
      ]
    },
    {
      "cell_type": "code",
      "metadata": {
        "id": "XyK_0dtEBjWG",
        "colab_type": "code",
        "colab": {
          "base_uri": "https://localhost:8080/",
          "height": 312
        },
        "outputId": "542c9e0c-2e1e-4b6f-d072-90af41a846bb"
      },
      "source": [
        "roc_plot(mlp, X, y, kf)"
      ],
      "execution_count": 41,
      "outputs": [
        {
          "output_type": "stream",
          "text": [
            "Enter your model name: MLP_KFold\n"
          ],
          "name": "stdout"
        },
        {
          "output_type": "display_data",
          "data": {
            "image/png": "[encoded data removed]",
            "text/plain": [
              "<Figure size 432x288 with 1 Axes>"
            ]
          },
          "metadata": {
            "tags": [],
            "needs_background": "light"
          }
        }
      ]
    }
  ]
}